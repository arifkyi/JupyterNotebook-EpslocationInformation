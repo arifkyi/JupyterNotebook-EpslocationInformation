{
 "cells": [
  {
   "cell_type": "code",
   "execution_count": 45,
   "metadata": {},
   "outputs": [],
   "source": [
    "import json\n",
    "import requests\n",
    "tokenKey = \"1234567890abcd\"  #14 digits token Key from  https://unwiredlabs.com"
   ]
  },
  {
   "cell_type": "code",
   "execution_count": 46,
   "metadata": {},
   "outputs": [],
   "source": [
    "##########  decoding form UDA of Sh interface start from here ########\n",
    "import base64\n",
    "mccmnc = ''\n",
    "EpsLocation = 'E0BAVfAQ' # from Sh-User Data in XL EpsLocationInformation\n",
    "str = base64.b64decode(EpsLocation)\n",
    "res = ''.join(format(x, '02x') for x in str)"
   ]
  },
  {
   "cell_type": "code",
   "execution_count": 47,
   "metadata": {},
   "outputs": [],
   "source": [
    "import re\n",
    "OldMccmnc =  res[0:6]\n",
    "s = re.findall('..',OldMccmnc)\n",
    "for es in s:\n",
    " #print (es[::-1], end = '')\n",
    " mccmnc = mccmnc + es[::-1]\n",
    "\n",
    "mcc=mccmnc[0:3]\n",
    "mnc=re.sub(\"[\\D]\",\"\",mccmnc[3:6])\n",
    "cid=int(res[6:],16)"
   ]
  },
  {
   "cell_type": "code",
   "execution_count": 48,
   "metadata": {},
   "outputs": [],
   "source": [
    "response = requests.post('https://ap1.unwiredlabs.com/v2/process.php',\n",
    "                   json={\"token\": tokenKey,\"radio\": \"lte\",\"mcc\": mcc,\"mnc\": mnc,\"cells\": \n",
    "                [{\"lac\": 1,\"cid\": cid,\"psc\": 0}],\"address\": 1})"
   ]
  },
  {
   "cell_type": "code",
   "execution_count": 49,
   "metadata": {},
   "outputs": [
    {
     "name": "stdout",
     "output_type": "stream",
     "text": [
      "Status code:  200\n",
      "Printing Entire Post Request\n",
      "{'status': 'ok', 'balance': 4993, 'lat': -6.181257, 'lon': 106.822815, 'accuracy': 437, 'message': 'This cell tower was not found in OpenCelliD. However, we served a location from the Unwired Labs LocationAPI (unwiredlabs.com), an Enterprise Geolocation service with over 100 million cell towers.', 'address': 'Jalan M. Haji Thamrin, RW 04, Gambir, Central Jakarta, Jakarta Special Capital Region, 10110, Indonesia'}\n"
     ]
    }
   ],
   "source": [
    "print(\"Status code: \", response.status_code)\n",
    "print(\"Printing Entire Post Request\")\n",
    "print(response.json())"
   ]
  },
  {
   "cell_type": "code",
   "execution_count": 50,
   "metadata": {},
   "outputs": [
    {
     "name": "stdout",
     "output_type": "stream",
     "text": [
      "-6.181257\n"
     ]
    }
   ],
   "source": [
    "print(response.json()['lat'])"
   ]
  },
  {
   "cell_type": "code",
   "execution_count": 51,
   "metadata": {},
   "outputs": [],
   "source": [
    "\n",
    "from ipyleaflet import *\n",
    "from ipywidgets import HTML"
   ]
  },
  {
   "cell_type": "code",
   "execution_count": 52,
   "metadata": {},
   "outputs": [],
   "source": [
    "m = Map(center=(response.json()['lat'],response.json()['lon']), zoom=100, basemap=basemaps.Stamen.Terrain   )"
   ]
  },
  {
   "cell_type": "code",
   "execution_count": 53,
   "metadata": {},
   "outputs": [
    {
     "data": {
      "application/vnd.jupyter.widget-view+json": {
       "model_id": "e6f5de1657894869ad0e84900ed96ecd",
       "version_major": 2,
       "version_minor": 0
      },
      "text/plain": [
       "Map(center=[-6.181257, 106.822815], controls=(ZoomControl(options=['position', 'zoom_in_text', 'zoom_in_title'…"
      ]
     },
     "metadata": {},
     "output_type": "display_data"
    }
   ],
   "source": [
    "circle_marker = CircleMarker()\n",
    "circle_marker.location = (response.json()['lat'],response.json()['lon'])\n",
    "circle_marker.radius = 100 #response.json()['accuracy']\n",
    "circle_marker.color = \"red\"\n",
    "#circle_marker.fill_color = \"red\"\n",
    "\n",
    "marker1 = Marker(location=(response.json()['lat'],response.json()['lon']))\n",
    "\n",
    "m.add_layer(circle_marker)\n",
    "m.add_layer(marker1)\n",
    "\n",
    "message2 = HTML()\n",
    "message2.value = response.json()['address']\n",
    "\n",
    "# Popup with a given location on the map:\n",
    "popup = Popup(\n",
    "    close_button=False,\n",
    "    auto_close=False,\n",
    "    close_on_escape_key=False\n",
    ")\n",
    "m.add_layer(popup)\n",
    "# Popup associated to a layer\n",
    "\n",
    "marker1.popup = message2\n",
    "\n",
    "m"
   ]
  },
  {
   "cell_type": "code",
   "execution_count": null,
   "metadata": {},
   "outputs": [],
   "source": []
  }
 ],
 "metadata": {
  "kernelspec": {
   "display_name": "Python 3",
   "language": "python",
   "name": "python3"
  },
  "language_info": {
   "codemirror_mode": {
    "name": "ipython",
    "version": 3
   },
   "file_extension": ".py",
   "mimetype": "text/x-python",
   "name": "python",
   "nbconvert_exporter": "python",
   "pygments_lexer": "ipython3",
   "version": "3.8.3"
  }
 },
 "nbformat": 4,
 "nbformat_minor": 4
}
